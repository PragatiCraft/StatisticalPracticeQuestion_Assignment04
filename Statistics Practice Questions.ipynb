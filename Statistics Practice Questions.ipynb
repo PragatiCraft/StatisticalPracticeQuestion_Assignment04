{
 "cells": [
  {
   "cell_type": "code",
   "execution_count": 10,
   "id": "c20d9d2a",
   "metadata": {},
   "outputs": [
    {
     "name": "stdout",
     "output_type": "stream",
     "text": [
      "[124, 105, 117, 126, 99, 97, 98, 122, 91, 111, 94, 114, 110, 127, 90, 104, 126, 109, 94, 118, 121, 105, 118, 93, 94, 112, 119, 93, 90, 122, 92, 96, 121, 119, 108, 107, 125, 106, 111, 116, 127, 114, 104, 97, 97, 106, 113, 97, 113, 98, 126, 92, 124, 108, 120, 130, 123, 122, 120, 128, 125, 121, 126, 116, 97, 111, 114, 110, 98, 125, 98, 119, 121, 128, 93, 129, 123, 127, 110, 128, 102, 114, 107, 129, 94, 130, 95, 104, 96, 112, 114, 91, 122, 92, 127, 91, 129, 125, 107, 129]\n"
     ]
    }
   ],
   "source": [
    "'''1)Generate a list of 100 integers containing values between 90 to 130 and store it in the variable `int_list`. \n",
    "After generating the list, find the following:'''\n",
    "\n",
    "\n",
    "import numpy as np\n",
    "int_list=np.random.randint(90,131,size=(100)).tolist()\n",
    "\n",
    "print(int_list)\n"
   ]
  },
  {
   "cell_type": "code",
   "execution_count": null,
   "id": "ada48155",
   "metadata": {},
   "outputs": [],
   "source": []
  },
  {
   "cell_type": "code",
   "execution_count": 14,
   "id": "9a4661ec",
   "metadata": {},
   "outputs": [
    {
     "name": "stdout",
     "output_type": "stream",
     "text": [
      "mean is: 111.32\n"
     ]
    }
   ],
   "source": [
    " '''i)Write a Python function to calculate the mean of a given list of numbers.\n",
    "Create a function to find the median of a list of numbers.'''\n",
    "\n",
    "def calculate_mean(mean):\n",
    "    \n",
    "    return np.mean(mean)\n",
    "\n",
    "result=calculate_mean(int_list)\n",
    "print(\"mean is:\",result)"
   ]
  },
  {
   "cell_type": "code",
   "execution_count": 13,
   "id": "aa0c17db",
   "metadata": {},
   "outputs": [
    {
     "name": "stdout",
     "output_type": "stream",
     "text": [
      "median is: 112.5\n"
     ]
    }
   ],
   "source": [
    "def calculate_median(median):\n",
    "    return np.median(median)\n",
    "\n",
    "result=calculate_median(int_list)\n",
    "print(\"median is:\",result)"
   ]
  },
  {
   "cell_type": "code",
   "execution_count": 19,
   "id": "76c32a46",
   "metadata": {},
   "outputs": [],
   "source": [
    "#!pip install statistic"
   ]
  },
  {
   "cell_type": "code",
   "execution_count": 20,
   "id": "9da56fd1",
   "metadata": {},
   "outputs": [],
   "source": [
    "#!pip install scipy"
   ]
  },
  {
   "cell_type": "code",
   "execution_count": 18,
   "id": "5bad5e14",
   "metadata": {},
   "outputs": [
    {
     "name": "stdout",
     "output_type": "stream",
     "text": [
      "mode is ModeResult(mode=97, count=5)\n"
     ]
    }
   ],
   "source": [
    "'''ii)Develop a program to compute the mode of a list of integers'''\n",
    "\n",
    "from scipy import stats\n",
    "\n",
    "mode=stats.mode(int_list)\n",
    "print(\"mode is\",mode)"
   ]
  },
  {
   "cell_type": "code",
   "execution_count": 21,
   "id": "9985dc0f",
   "metadata": {},
   "outputs": [
    {
     "name": "stdout",
     "output_type": "stream",
     "text": [
      "111.16489819328936\n"
     ]
    }
   ],
   "source": [
    "'''iii) Implement a function to calculate the weighted mean of a list of values and their corresponding weights'''\n",
    "\n",
    "def weighted_mean(int_list,weights):\n",
    "    \n",
    "    return np.average(int_list, weights=weights)\n",
    "weights=np.random.randint(20,50,size=(100)).tolist()\n",
    "\n",
    "result= weighted_mean(int_list,weights)\n",
    "print(result)"
   ]
  },
  {
   "cell_type": "code",
   "execution_count": 24,
   "id": "94dd8401",
   "metadata": {},
   "outputs": [
    {
     "name": "stdout",
     "output_type": "stream",
     "text": [
      "geometric mean 110.5892554581349\n"
     ]
    }
   ],
   "source": [
    "'''iv) Write a Python function to find the geometric mean of a list of positive numbers'''\n",
    "import numpy as np\n",
    "from scipy.stats import gmean\n",
    "\n",
    "\n",
    "def geometric_mean(int_list):\n",
    "    return gmean(int_list)\n",
    "\n",
    "result=geometric_mean(int_list)\n",
    "print(\"geometric mean\",result)"
   ]
  },
  {
   "cell_type": "code",
   "execution_count": 26,
   "id": "e825730d",
   "metadata": {},
   "outputs": [
    {
     "name": "stdout",
     "output_type": "stream",
     "text": [
      "harmonic mean is: 109.84613971195151\n"
     ]
    }
   ],
   "source": [
    "'''v) Create a program to calculate the harmonic mean of a list of values'''\n",
    "\n",
    "import numpy as np\n",
    "from scipy.stats import hmean\n",
    "\n",
    "harmonic_mean=stats.hmean(int_list)\n",
    "print(\"harmonic mean is:\",harmonic_mean)\n"
   ]
  },
  {
   "cell_type": "code",
   "execution_count": 30,
   "id": "26b6e3ba",
   "metadata": {},
   "outputs": [
    {
     "name": "stdout",
     "output_type": "stream",
     "text": [
      "midrange is : 110.0\n"
     ]
    }
   ],
   "source": [
    "'''vi)Build a function to determine the midrange of a list of numbers (average of the minimum and maximum).'''\n",
    "\n",
    "def midrange(num):\n",
    "    min_num=np.min(num)\n",
    "    max_num=np.max(num)\n",
    "    midrange=(min_num + max_num)/2\n",
    "    return midrange\n",
    "\n",
    "result=midrange(int_list)\n",
    "print(\"midrange is :\",result)"
   ]
  },
  {
   "cell_type": "code",
   "execution_count": 37,
   "id": "568dbec5",
   "metadata": {},
   "outputs": [
    {
     "name": "stdout",
     "output_type": "stream",
     "text": [
      "trimmed mean of a list, excluding a certain percentage of outliers: 112.0\n"
     ]
    }
   ],
   "source": [
    "'''vii) Implement a Python program to find the trimmed mean of a list, excluding a certain percentage of \n",
    "outliers'''\n",
    "import numpy as np\n",
    "from scipy.stats import trim_mean\n",
    "\n",
    "def  trimmed_mean(int_list,outlier):\n",
    "    return trim_mean(int_list,outlier)\n",
    "\n",
    "outlier=0.2\n",
    "\n",
    "result=trimmed_mean(int_list,outlier)\n",
    "print(\"trimmed mean of a list, excluding a certain percentage of outliers:\",result)\n",
    "    \n",
    "\n",
    "\n"
   ]
  },
  {
   "cell_type": "code",
   "execution_count": null,
   "id": "a10ee464",
   "metadata": {},
   "outputs": [],
   "source": [
    "\n"
   ]
  },
  {
   "cell_type": "code",
   "execution_count": 5,
   "id": "c555e40b",
   "metadata": {},
   "outputs": [
    {
     "name": "stdout",
     "output_type": "stream",
     "text": [
      "[285 282 279 244 271 245 285 209 217 214 222 245 275 233 279 252 297 253\n",
      " 277 294 203 232 259 291 283 213 275 249 221 210 298 251 269 201 217 208\n",
      " 201 285 229 299 255 260 245 225 299 287 231 287 208 262 241 262 296 216\n",
      " 255 224 279 294 204 218 274 221 299 222 258 256 294 213 255 248 299 253\n",
      " 226 243 267 254 295 283 295 257 218 235 283 273 223 200 204 218 204 218\n",
      " 254 287 215 204 268 290 278 220 204 250 230 271 218 273 295 229 254 214\n",
      " 202 282 212 259 240 231 253 224 250 254 221 286 262 247 217 210 290 272\n",
      " 242 272 229 267 261 289 221 201 281 283 211 232 284 273 255 219 287 235\n",
      " 207 239 239 209 289 249 272 210 258 225 278 288 224 253 219 224 219 256\n",
      " 231 259 235 289 288 208 292 205 287 297 256 293 239 234 231 275 289 218\n",
      " 259 284 272 206 300 287 291 227 296 275 263 214 207 297 272 259 261 275\n",
      " 204 217 265 222 283 286 299 201 238 256 206 282 246 268 219 273 289 232\n",
      " 234 234 228 287 232 208 244 228 265 249 205 289 298 211 291 253 220 223\n",
      " 288 282 221 200 261 213 275 269 268 244 241 277 257 282 274 266 242 234\n",
      " 242 300 206 228 231 241 240 200 228 246 296 249 247 214 212 227 261 211\n",
      " 227 208 248 213 287 203 291 300 211 220 225 231 215 204 209 212 236 287\n",
      " 257 201 235 254 241 254 214 206 226 232 252 208 225 212 204 208 246 228\n",
      " 267 242 201 290 229 200 281 284 260 246 279 237 298 273 244 252 278 217\n",
      " 284 297 295 276 228 278 220 202 221 269 239 218 233 208 207 238 204 217\n",
      " 261 273 256 239 291 210 283 211 277 263 287 221 268 267 250 297 255 243\n",
      " 291 269 273 264 227 212 203 231 233 217 231 204 209 260 260 268 289 210\n",
      " 202 269 236 204 291 246 203 209 215 265 268 293 253 249 260 272 278 263\n",
      " 258 290 245 286 214 208 273 298 233 230 292 253 274 204 298 294 211 241\n",
      " 203 288 246 232 286 221 253 205 221 261 265 237 204 289 221 240 244 226\n",
      " 204 258 215 283 296 219 290 221 288 287 282 242 238 300 281 262 223 231\n",
      " 299 263 212 239 205 264 254 239 232 227 289 266 292 240 283 220 217 272\n",
      " 212 210 227 217 243 250 241 202 260 252 291 249 262 258 214 269 249 224\n",
      " 298 226 258 299 232 257 261 259 262 283 226 225 241 217]\n"
     ]
    }
   ],
   "source": [
    "'''2) Generate a list of 500 integers containing values between 200 to 300 and store it in the variable `int_list2`. \n",
    "After generating the list, find the following'''\n",
    "\n",
    "import numpy as np\n",
    "import pandas as pd\n",
    "import seaborn as sns\n",
    "import matplotlib.pyplot as plt\n",
    "\n",
    "\n",
    "int_list2=np.random.randint(200,301,size=500)\n",
    "print(int_list2)\n",
    "\n",
    "\n",
    "\n",
    "\n"
   ]
  },
  {
   "cell_type": "code",
   "execution_count": 43,
   "id": "a89fb7e7",
   "metadata": {},
   "outputs": [
    {
     "data": {
      "image/png": "[encoded data removed]",
      "text/plain": [
       "<Figure size 640x480 with 1 Axes>"
      ]
     },
     "metadata": {},
     "output_type": "display_data"
    }
   ],
   "source": [
    "''' (i) Compare the given list of visualization for the given data:'''\n",
    "\n",
    "\n",
    "'''1) Frequency & Gaussian distribution'''\n",
    "\n",
    "#Gaussian distribution\n",
    "\n",
    "mean=np.mean(int_list2)\n",
    "std_deviation=np.std(int_list2)\n",
    "\n",
    "value=np.random.normal(mean,std_deviation,500)\n",
    "\n",
    "\n",
    "sns.histplot(value)\n",
    "plt.title(\"Gaussian distribution\")\n",
    "plt.show()\n",
    "  \n"
   ]
  },
  {
   "cell_type": "code",
   "execution_count": 42,
   "id": "5a93f074",
   "metadata": {},
   "outputs": [
    {
     "data": {
      "image/png": "[encoded data removed]",
      "text/plain": [
       "<Figure size 640x480 with 1 Axes>"
      ]
     },
     "metadata": {},
     "output_type": "display_data"
    }
   ],
   "source": [
    "#Frequency distribution\n",
    "sns.histplot(int_list2,bins=10)\n",
    "\n",
    "plt.title(\"frequency distribution\")\n",
    "plt.xlabel(\"values\")\n",
    "plt.ylabel(\"frequency\")\n",
    "plt.gride=True\n",
    "plt.show()    \n",
    "    \n"
   ]
  },
  {
   "cell_type": "code",
   "execution_count": 11,
   "id": "0381c8e4",
   "metadata": {},
   "outputs": [
    {
     "data": {
      "image/png": "[encoded data removed]",
      "text/plain": [
       "<Figure size 640x480 with 1 Axes>"
      ]
     },
     "metadata": {},
     "output_type": "display_data"
    }
   ],
   "source": [
    "'''2) Frequency smoothened KDE plot'''\n",
    "\n",
    "import numpy as np\n",
    "import pandas as pd\n",
    "import seaborn as sns\n",
    "\n",
    "sns.histplot(int_list2,kde=True)\n",
    "plt.title(\"frequency distribution\")\n",
    "plt.xlabel(\"values\")\n",
    "plt.ylabel(\"frequency\")\n",
    "plt.show()"
   ]
  },
  {
   "cell_type": "code",
   "execution_count": 26,
   "id": "e90badd2",
   "metadata": {},
   "outputs": [
    {
     "data": {
      "image/png": "[encoded data removed]",
      "text/plain": [
       "<Figure size 2500x1500 with 3 Axes>"
      ]
     },
     "metadata": {},
     "output_type": "display_data"
    }
   ],
   "source": [
    "'''3) Gaussian distribution & smoothened KDE plot'''\n",
    "\n",
    "mean=np.mean(int_list2)\n",
    "std_deviation=np.std(int_list2)\n",
    "\n",
    "value=np.random.normal(mean,std_deviation,500)\n",
    "\n",
    "\n",
    "plt.figure(figsize=(25,15))\n",
    "plt.subplot(1, 2, 1)\n",
    "\n",
    "sns.histplot(value,kde=True)\n",
    "plt.title(\"Gaussian distribution\")\n",
    "plt.subplot(1,2,2)\n",
    "\n",
    "\n",
    "\n",
    "sns.histplot(int_list2,kde=True)\n",
    "plt.subplot(2, 1, 2)\n",
    "plt.title(\"smoothened KDE plo\")\n",
    "plt.xlabel(\"values\")\n",
    "plt.ylabel(\"frequency\")\n",
    "plt.show()\n"
   ]
  },
  {
   "cell_type": "code",
   "execution_count": null,
   "id": "7b49f2fe",
   "metadata": {},
   "outputs": [],
   "source": []
  },
  {
   "cell_type": "code",
   "execution_count": 5,
   "id": "9653fda4",
   "metadata": {},
   "outputs": [
    {
     "name": "stdout",
     "output_type": "stream",
     "text": [
      "range is : -100\n"
     ]
    }
   ],
   "source": [
    "'''ii)) Write a Python function to calculate the range of a given list of numbers.'''\n",
    "\n",
    "def rangee(num):\n",
    "    min_num=np.min(num)\n",
    "    max_num=np.max(num)\n",
    "    rangee=(min_num - max_num)\n",
    "    return rangee\n",
    "\n",
    "result=rangee(int_list2)\n",
    "print(\"range is :\",result)"
   ]
  },
  {
   "cell_type": "code",
   "execution_count": 8,
   "id": "5b466fec",
   "metadata": {},
   "outputs": [
    {
     "name": "stdout",
     "output_type": "stream",
     "text": [
      "variance is: 941.4731\n",
      "standard deviation is: 30.683433640973107\n"
     ]
    }
   ],
   "source": [
    "'''iii)Create a program to find the variance and standard deviation of a list of numbers'''\n",
    "\n",
    "variance=np.var(int_list2)\n",
    "print(\"variance is:\",variance)\n",
    "\n",
    "\n",
    "standard_deviation=np.std(int_list2)\n",
    "print(\"standard deviation is:\",standard_deviation)\n"
   ]
  },
  {
   "cell_type": "code",
   "execution_count": 14,
   "id": "94e0cb96",
   "metadata": {},
   "outputs": [
    {
     "name": "stdout",
     "output_type": "stream",
     "text": [
      "interquartile range is: [55.]\n"
     ]
    }
   ],
   "source": [
    "'''iv)Implement a function to compute the interquartile range (IQR) of a list of values.'''\n",
    "\n",
    "def IQR(data):\n",
    "    np.percentile(data,[25,75])\n",
    "    IQR = np.percentile(data,[75]) - np.percentile(data,[25])\n",
    "    return IQR\n",
    "\n",
    "result=IQR(int_list2)\n",
    "\n",
    "print('interquartile range is:',result)\n"
   ]
  },
  {
   "cell_type": "code",
   "execution_count": 16,
   "id": "09bb924c",
   "metadata": {},
   "outputs": [
    {
     "data": {
      "text/html": [
       "<div>\n",
       "<style scoped>\n",
       "    .dataframe tbody tr th:only-of-type {\n",
       "        vertical-align: middle;\n",
       "    }\n",
       "\n",
       "    .dataframe tbody tr th {\n",
       "        vertical-align: top;\n",
       "    }\n",
       "\n",
       "    .dataframe thead th {\n",
       "        text-align: right;\n",
       "    }\n",
       "</style>\n",
       "<table border=\"1\" class=\"dataframe\">\n",
       "  <thead>\n",
       "    <tr style=\"text-align: right;\">\n",
       "      <th></th>\n",
       "      <th>0</th>\n",
       "    </tr>\n",
       "  </thead>\n",
       "  <tbody>\n",
       "    <tr>\n",
       "      <th>0</th>\n",
       "      <td>943.35982</td>\n",
       "    </tr>\n",
       "  </tbody>\n",
       "</table>\n",
       "</div>"
      ],
      "text/plain": [
       "           0\n",
       "0  943.35982"
      ]
     },
     "execution_count": 16,
     "metadata": {},
     "output_type": "execute_result"
    }
   ],
   "source": [
    "'''v)Build a program to calculate the coefficient of variation for a dataset.'''\n",
    "\n",
    "import pandas as pd\n",
    "\n",
    "df=pd.DataFrame(int_list2)\n",
    "df\n",
    "\n",
    "df.cov()"
   ]
  },
  {
   "cell_type": "code",
   "execution_count": 3,
   "id": "e38a2cf5",
   "metadata": {},
   "outputs": [
    {
     "name": "stdout",
     "output_type": "stream",
     "text": [
      "mean absolute deviation is :  25.67376\n"
     ]
    }
   ],
   "source": [
    "'''vi) Write a Python function to find the mean absolute deviation (MAD) of a list of numbers'''\n",
    "\n",
    "import numpy as np\n",
    "\n",
    "int_list2=np.random.randint(200,301,size=500)\n",
    "\n",
    "\n",
    "Mean=np.mean(int_list2)\n",
    "\n",
    "absolute_deviation=np.abs(int_list2-Mean)\n",
    "\n",
    "mean_absolute_deviation=np.mean(absolute_deviation)\n",
    "\n",
    "print(\"mean absolute deviation is : \",mean_absolute_deviation)\n",
    "\n",
    "\n",
    "\n",
    "\n"
   ]
  },
  {
   "cell_type": "code",
   "execution_count": 4,
   "id": "3bccd29e",
   "metadata": {},
   "outputs": [
    {
     "name": "stdout",
     "output_type": "stream",
     "text": [
      "quartile deviation is: 25.5\n"
     ]
    }
   ],
   "source": [
    "'''vii)) Create a program to calculate the quartile deviation of a list of values'''\n",
    "\n",
    "\n",
    "quartile1=np.percentile(int_list2,25)\n",
    "quartile2=np.percentile(int_list2,75)\n",
    "\n",
    "quartile_deviation=(quartile2-quartile1)/2\n",
    "\n",
    "print( \"quartile deviation is:\", quartile_deviation)"
   ]
  },
  {
   "cell_type": "code",
   "execution_count": 6,
   "id": "aeff0822",
   "metadata": {},
   "outputs": [
    {
     "name": "stdout",
     "output_type": "stream",
     "text": [
      "range-based coefficient of dispersion is: [0.38910506 0.34246575 0.34602076 0.46948357 0.37453184 0.35714286\n",
      " 0.37735849 0.34364261 0.39525692 0.5        0.36630037 0.49019608\n",
      " 0.45248869 0.45248869 0.47169811 0.42372881 0.456621   0.36764706\n",
      " 0.40322581 0.44843049 0.34602076 0.42918455 0.38461538 0.40160643\n",
      " 0.48780488 0.46948357 0.36231884 0.36101083 0.34364261 0.38314176\n",
      " 0.48309179 0.43290043 0.43478261 0.38910506 0.41666667 0.390625\n",
      " 0.47619048 0.34482759 0.47169811 0.40322581 0.42016807 0.456621\n",
      " 0.34843206 0.46082949 0.37037037 0.47169811 0.35087719 0.38314176\n",
      " 0.48543689 0.43478261 0.46948357 0.35842294 0.35460993 0.38910506\n",
      " 0.42553191 0.42372881 0.48076923 0.33444816 0.44052863 0.46511628\n",
      " 0.48543689 0.37174721 0.39215686 0.42918455 0.42553191 0.48309179\n",
      " 0.34482759 0.33333333 0.34364261 0.36900369 0.37313433 0.45248869\n",
      " 0.5        0.36764706 0.34013605 0.34129693 0.37878788 0.37313433\n",
      " 0.37174721 0.34246575 0.4950495  0.33557047 0.34722222 0.35587189\n",
      " 0.49751244 0.44052863 0.45045045 0.38610039 0.38314176 0.5\n",
      " 0.43668122 0.34722222 0.34602076 0.46728972 0.35335689 0.34364261\n",
      " 0.4587156  0.42553191 0.36231884 0.5        0.34013605 0.46728972\n",
      " 0.5        0.42735043 0.3649635  0.48780488 0.38167939 0.34129693\n",
      " 0.34722222 0.49261084 0.43103448 0.36900369 0.3875969  0.33783784\n",
      " 0.4048583  0.38314176 0.36231884 0.44843049 0.41666667 0.49751244\n",
      " 0.44444444 0.41666667 0.35460993 0.42194093 0.42372881 0.49261084\n",
      " 0.44052863 0.4784689  0.36900369 0.37313433 0.36630037 0.34722222\n",
      " 0.48076923 0.41666667 0.43103448 0.46296296 0.49751244 0.37593985\n",
      " 0.33898305 0.42194093 0.46082949 0.37313433 0.43859649 0.43290043\n",
      " 0.46728972 0.47619048 0.42735043 0.35714286 0.35335689 0.4048583\n",
      " 0.35714286 0.36630037 0.37037037 0.33783784 0.44642857 0.33670034\n",
      " 0.36630037 0.34482759 0.33670034 0.35335689 0.35971223 0.34364261\n",
      " 0.45454545 0.34722222 0.4784689  0.46082949 0.37037037 0.39840637\n",
      " 0.44642857 0.3649635  0.37453184 0.41152263 0.38461538 0.42735043\n",
      " 0.35714286 0.3875969  0.35971223 0.36363636 0.35087719 0.36101083\n",
      " 0.42194093 0.42735043 0.43290043 0.46296296 0.4950495  0.4950495\n",
      " 0.45045045 0.4587156  0.48076923 0.40160643 0.36101083 0.33783784\n",
      " 0.4        0.33783784 0.47169811 0.36101083 0.37037037 0.33783784\n",
      " 0.41493776 0.44642857 0.4587156  0.43478261 0.46728972 0.37593985\n",
      " 0.42194093 0.42194093 0.37174721 0.48076923 0.48780488 0.44052863\n",
      " 0.46511628 0.45454545 0.49261084 0.34013605 0.46728972 0.47393365\n",
      " 0.47393365 0.456621   0.34129693 0.40160643 0.41152263 0.49261084\n",
      " 0.42918455 0.40816327 0.38910506 0.38610039 0.43668122 0.45248869\n",
      " 0.35087719 0.37735849 0.48309179 0.40160643 0.44843049 0.48309179\n",
      " 0.34965035 0.42372881 0.40650407 0.34843206 0.42016807 0.4048583\n",
      " 0.34843206 0.42016807 0.35460993 0.43103448 0.34722222 0.3968254\n",
      " 0.41493776 0.44052863 0.34013605 0.33444816 0.33444816 0.48309179\n",
      " 0.42194093 0.43859649 0.41152263 0.35714286 0.44444444 0.390625\n",
      " 0.33670034 0.46948357 0.46948357 0.45045045 0.40816327 0.35087719\n",
      " 0.38167939 0.38461538 0.33898305 0.42918455 0.35587189 0.37453184\n",
      " 0.456621   0.36363636 0.34602076 0.40322581 0.40650407 0.49751244\n",
      " 0.38610039 0.43478261 0.3649635  0.36101083 0.47619048 0.40983607\n",
      " 0.34364261 0.41493776 0.39840637 0.34482759 0.47393365 0.43103448\n",
      " 0.390625   0.43478261 0.46728972 0.40816327 0.42918455 0.36630037\n",
      " 0.456621   0.33557047 0.41152263 0.40650407 0.37735849 0.48780488\n",
      " 0.46082949 0.47393365 0.35971223 0.41841004 0.45454545 0.34364261\n",
      " 0.34602076 0.36231884 0.49751244 0.37453184 0.40816327 0.37453184\n",
      " 0.49261084 0.36900369 0.33783784 0.43290043 0.35460993 0.36101083\n",
      " 0.42372881 0.43103448 0.41841004 0.37453184 0.46511628 0.41152263\n",
      " 0.33898305 0.48309179 0.49261084 0.41666667 0.3649635  0.45045045\n",
      " 0.41152263 0.47169811 0.46728972 0.37174721 0.35460993 0.4\n",
      " 0.41152263 0.40983607 0.44642857 0.38022814 0.35714286 0.35842294\n",
      " 0.49261084 0.46948357 0.33333333 0.43668122 0.41666667 0.41322314\n",
      " 0.33670034 0.456621   0.33557047 0.46728972 0.34246575 0.41322314\n",
      " 0.35587189 0.34013605 0.39840637 0.42553191 0.38610039 0.34246575\n",
      " 0.42016807 0.39215686 0.38610039 0.33670034 0.4048583  0.49261084\n",
      " 0.48076923 0.41322314 0.39215686 0.36764706 0.40322581 0.41152263\n",
      " 0.42918455 0.37735849 0.38167939 0.3875969  0.41322314 0.40983607\n",
      " 0.35971223 0.35842294 0.34246575 0.34364261 0.36630037 0.37037037\n",
      " 0.46296296 0.46511628 0.4        0.33783784 0.34602076 0.38461538\n",
      " 0.35335689 0.35971223 0.42372881 0.34246575 0.37878788 0.33557047\n",
      " 0.37735849 0.36900369 0.4587156  0.49019608 0.35714286 0.38314176\n",
      " 0.42735043 0.37037037 0.35211268 0.43859649 0.3649635  0.43290043\n",
      " 0.34843206 0.37593985 0.42553191 0.39215686 0.37453184 0.34722222\n",
      " 0.42016807 0.49261084 0.4        0.41841004 0.4784689  0.37593985\n",
      " 0.44843049 0.49751244 0.42735043 0.5        0.36764706 0.44843049\n",
      " 0.44843049 0.47169811 0.34722222 0.37735849 0.38910506 0.47619048\n",
      " 0.43859649 0.38022814 0.41666667 0.46948357 0.48076923 0.38314176\n",
      " 0.43859649 0.44444444 0.42735043 0.41493776 0.41841004 0.34129693\n",
      " 0.34013605 0.34722222 0.48543689 0.34965035 0.4        0.39840637\n",
      " 0.34722222 0.35087719 0.34482759 0.36363636 0.42372881 0.5\n",
      " 0.33898305 0.38167939 0.44247788 0.40160643 0.43103448 0.40160643\n",
      " 0.48309179 0.44642857 0.47619048 0.3649635  0.45045045 0.46082949\n",
      " 0.35460993 0.37593985 0.42735043 0.43103448 0.34482759 0.38022814\n",
      " 0.44843049 0.46948357 0.34843206 0.44247788 0.36231884 0.35335689\n",
      " 0.35971223 0.4587156  0.44052863 0.35971223 0.37593985 0.42735043\n",
      " 0.46082949 0.40983607 0.34364261 0.49751244 0.39840637 0.43859649\n",
      " 0.44052863 0.41841004 0.43290043 0.42735043 0.47169811 0.39525692\n",
      " 0.36900369 0.38910506]\n"
     ]
    }
   ],
   "source": [
    "'''viii) Implement a function to find the range-based coefficient of dispersion for a dataset'''\n",
    "\n",
    "def range_based_coefficient(data):\n",
    "    Mean=np.mean(int_list2)\n",
    "    \n",
    "    list_range=np.max(int_list2)-np.min(data)\n",
    "    \n",
    "    rbc=list_range/data\n",
    "    return rbc\n",
    "\n",
    "int_list2=np.random.randint(200,301,size=500)\n",
    "result=range_based_coefficient(int_list2)\n",
    "print(\"range-based coefficient of dispersion is:\",result)\n",
    "    \n",
    "    "
   ]
  },
  {
   "cell_type": "code",
   "execution_count": 13,
   "id": "5bf20d86",
   "metadata": {},
   "outputs": [
    {
     "name": "stdout",
     "output_type": "stream",
     "text": [
      "Expected value: 3.2\n",
      "Variance: 1.56\n"
     ]
    }
   ],
   "source": [
    "'''3) Write a Python class representing a discrete random variable with methods to calculate its expected \n",
    "value and variance'''\n",
    "class DiscreteRandomVariable:\n",
    "def __init__(self, outcomes, probabilities):\n",
    "       \n",
    "        self.outcomes = outcomes\n",
    "        self.probabilities = probabilities\n",
    "    \n",
    "def expected_value(self):\n",
    "       \n",
    "        expected_val = sum(p * x for x, p in zip(self.outcomes, self.probabilities))\n",
    "        return expected_val\n",
    "    \n",
    "def variance(self):\n",
    "      \n",
    "        mean = self.expected_value()\n",
    "        variance = sum(p * (x - mean)**2 for x, p in zip(self.outcomes, self.probabilities))\n",
    "        return variance\n",
    "\n",
    "\n",
    "outcomes = [1, 2, 3, 4, 5]\n",
    "probabilities = [0.1, 0.2, 0.3, 0.2, 0.2]\n",
    "\n",
    "\n",
    "rv = DiscreteRandomVariable(outcomes, probabilities)\n",
    "\n",
    "\n",
    "print(\"Expected value:\", rv.expected_value())\n",
    "\n",
    "\n",
    "print(\"Variance:\", rv.variance())\n",
    "\n",
    "\n",
    "\n"
   ]
  },
  {
   "cell_type": "code",
   "execution_count": 18,
   "id": "d3282aaf",
   "metadata": {},
   "outputs": [
    {
     "name": "stdout",
     "output_type": "stream",
     "text": [
      "rolls of a fair six-sided die: 1000000\n",
      "Expected Value: 3.497547\n",
      "Variance: 2.9155039827909994\n"
     ]
    }
   ],
   "source": [
    "'''4)) Implement a program to simulate the rolling of a fair six-sided die and calculate the expected value and \n",
    "variance of the outcomes.'''\n",
    "\n",
    "import numpy as np\n",
    "\n",
    "def simulate_die_rolls(num_rolls):\n",
    "    rolls = np.random.randint(1, 7, size=num_rolls)  \n",
    "    return rolls\n",
    "\n",
    "def calculate_expected_value(rolls):\n",
    "    return np.mean(rolls)\n",
    "\n",
    "def calculate_variance(rolls):\n",
    "    return np.var(rolls, ddof=0) \n",
    "def main():\n",
    "    num_rolls = 1000000 \n",
    "    rolls = simulate_die_rolls(num_rolls)\n",
    "    \n",
    "    expected_value = calculate_expected_value(rolls)\n",
    "    variance = calculate_variance(rolls)\n",
    "    \n",
    "    print(\"rolls of a fair six-sided die:\", num_rolls)\n",
    "    print(\"Expected Value:\", expected_value)\n",
    "    print(\"Variance:\", variance)\n",
    "\n",
    "if __name__ == \"__main__\":\n",
    "    main()\n",
    "\n"
   ]
  },
  {
   "cell_type": "code",
   "execution_count": 2,
   "id": "7ad99f21",
   "metadata": {},
   "outputs": [
    {
     "name": "stdout",
     "output_type": "stream",
     "text": [
      "mean and variance for poisson distribution is: (4.244, 4.500464)\n",
      "mean and variance for binomial distribution is (3.994, 3.3099640000000004)\n"
     ]
    }
   ],
   "source": [
    "'''5) Create a Python function to generate random samples from a given probability distribution (e.g., \n",
    "binomial, Poisson) and calculate their mean and variance'''\n",
    "\n",
    "\n",
    "import numpy as np\n",
    "\n",
    "def poisson_mean_var(lam,sample_size=500):\n",
    "    sample1=np.random.poisson(lam,sample_size)\n",
    "    mean=np.mean(sample1)\n",
    "    variance=np.var(sample1)\n",
    "    return mean,variance\n",
    "\n",
    "def binomial_mean_var(n,p,sample_size=500):\n",
    "    sample2=np.random.binomial(n,p,sample_size)\n",
    "    mean=np.mean(sample2)\n",
    "    variance=np.var(sample2)\n",
    "    return mean,variance\n",
    "\n",
    "lam=4.0\n",
    "n=20\n",
    "p=0.2\n",
    "sample_size=500\n",
    "\n",
    "mean_var_poisson_distribution=poisson_mean_var(lam,sample_size=500)\n",
    "print(\"mean and variance for poisson distribution is:\",mean_var_poisson_distribution)\n",
    "mean_var_binomial_distribution= binomial_mean_var(n,p,sample_size=500)\n",
    "\n",
    "print(\"mean and variance for binomial distribution is\",mean_var_binomial_distribution)\n",
    "\n",
    "\n",
    "    \n"
   ]
  },
  {
   "cell_type": "code",
   "execution_count": 4,
   "id": "8e69f764",
   "metadata": {},
   "outputs": [
    {
     "name": "stdout",
     "output_type": "stream",
     "text": [
      "mean of a samples of normal distribution: (9.759128088903799, 9.79485939962392)\n",
      "standard deviation of a samples of normal distribution: (3.971481817602268, 4.051495189561493)\n",
      "variance of a samples of normal distribution: (15.772667827545414, 16.414613271039915)\n"
     ]
    }
   ],
   "source": [
    "'''6)Write a Python script to generate random numbers from a Gaussian (normal) distribution and compute \n",
    "the mean, variance, and standard deviation of the samples.'''\n",
    "\n",
    "def normal_distribution(mean,std,data_point):\n",
    "    \n",
    "    sample1=np.random.normal(mean,std,data_point)\n",
    "    sample2=np.random.normal(mean,std,data_point)\n",
    "    mean=np.mean(sample1),np.mean(sample2)\n",
    "    variance=np.var(sample1),np.var(sample2)\n",
    "    standard_deviation=np.std(sample1),np.std(sample2)\n",
    "    return mean,variance,standard_deviation\n",
    "\n",
    "mean_of_normal_distribition=10.0\n",
    "std_of_normal_distribition=4.0\n",
    "data_point=1000\n",
    "\n",
    "mean,var,std=normal_distribution(mean_of_normal_distribition,std_of_normal_distribition,data_point)\n",
    "print(\"mean of a samples of normal distribution:\",mean)\n",
    "print(\"standard deviation of a samples of normal distribution:\",std)\n",
    "print(\"variance of a samples of normal distribution:\",var)\n",
    "\n",
    "\n",
    "\n",
    "    \n",
    "    \n",
    "   \n",
    "\n",
    "\n"
   ]
  },
  {
   "cell_type": "code",
   "execution_count": 3,
   "id": "f64bd0fe",
   "metadata": {},
   "outputs": [
    {
     "data": {
      "text/html": [
       "<div>\n",
       "<style scoped>\n",
       "    .dataframe tbody tr th:only-of-type {\n",
       "        vertical-align: middle;\n",
       "    }\n",
       "\n",
       "    .dataframe tbody tr th {\n",
       "        vertical-align: top;\n",
       "    }\n",
       "\n",
       "    .dataframe thead th {\n",
       "        text-align: right;\n",
       "    }\n",
       "</style>\n",
       "<table border=\"1\" class=\"dataframe\">\n",
       "  <thead>\n",
       "    <tr style=\"text-align: right;\">\n",
       "      <th></th>\n",
       "      <th>total_bill</th>\n",
       "      <th>tip</th>\n",
       "      <th>sex</th>\n",
       "      <th>smoker</th>\n",
       "      <th>day</th>\n",
       "      <th>time</th>\n",
       "      <th>size</th>\n",
       "    </tr>\n",
       "  </thead>\n",
       "  <tbody>\n",
       "    <tr>\n",
       "      <th>0</th>\n",
       "      <td>16.99</td>\n",
       "      <td>1.01</td>\n",
       "      <td>Female</td>\n",
       "      <td>No</td>\n",
       "      <td>Sun</td>\n",
       "      <td>Dinner</td>\n",
       "      <td>2</td>\n",
       "    </tr>\n",
       "    <tr>\n",
       "      <th>1</th>\n",
       "      <td>10.34</td>\n",
       "      <td>1.66</td>\n",
       "      <td>Male</td>\n",
       "      <td>No</td>\n",
       "      <td>Sun</td>\n",
       "      <td>Dinner</td>\n",
       "      <td>3</td>\n",
       "    </tr>\n",
       "    <tr>\n",
       "      <th>2</th>\n",
       "      <td>21.01</td>\n",
       "      <td>3.50</td>\n",
       "      <td>Male</td>\n",
       "      <td>No</td>\n",
       "      <td>Sun</td>\n",
       "      <td>Dinner</td>\n",
       "      <td>3</td>\n",
       "    </tr>\n",
       "    <tr>\n",
       "      <th>3</th>\n",
       "      <td>23.68</td>\n",
       "      <td>3.31</td>\n",
       "      <td>Male</td>\n",
       "      <td>No</td>\n",
       "      <td>Sun</td>\n",
       "      <td>Dinner</td>\n",
       "      <td>2</td>\n",
       "    </tr>\n",
       "    <tr>\n",
       "      <th>4</th>\n",
       "      <td>24.59</td>\n",
       "      <td>3.61</td>\n",
       "      <td>Female</td>\n",
       "      <td>No</td>\n",
       "      <td>Sun</td>\n",
       "      <td>Dinner</td>\n",
       "      <td>4</td>\n",
       "    </tr>\n",
       "    <tr>\n",
       "      <th>...</th>\n",
       "      <td>...</td>\n",
       "      <td>...</td>\n",
       "      <td>...</td>\n",
       "      <td>...</td>\n",
       "      <td>...</td>\n",
       "      <td>...</td>\n",
       "      <td>...</td>\n",
       "    </tr>\n",
       "    <tr>\n",
       "      <th>239</th>\n",
       "      <td>29.03</td>\n",
       "      <td>5.92</td>\n",
       "      <td>Male</td>\n",
       "      <td>No</td>\n",
       "      <td>Sat</td>\n",
       "      <td>Dinner</td>\n",
       "      <td>3</td>\n",
       "    </tr>\n",
       "    <tr>\n",
       "      <th>240</th>\n",
       "      <td>27.18</td>\n",
       "      <td>2.00</td>\n",
       "      <td>Female</td>\n",
       "      <td>Yes</td>\n",
       "      <td>Sat</td>\n",
       "      <td>Dinner</td>\n",
       "      <td>2</td>\n",
       "    </tr>\n",
       "    <tr>\n",
       "      <th>241</th>\n",
       "      <td>22.67</td>\n",
       "      <td>2.00</td>\n",
       "      <td>Male</td>\n",
       "      <td>Yes</td>\n",
       "      <td>Sat</td>\n",
       "      <td>Dinner</td>\n",
       "      <td>2</td>\n",
       "    </tr>\n",
       "    <tr>\n",
       "      <th>242</th>\n",
       "      <td>17.82</td>\n",
       "      <td>1.75</td>\n",
       "      <td>Male</td>\n",
       "      <td>No</td>\n",
       "      <td>Sat</td>\n",
       "      <td>Dinner</td>\n",
       "      <td>2</td>\n",
       "    </tr>\n",
       "    <tr>\n",
       "      <th>243</th>\n",
       "      <td>18.78</td>\n",
       "      <td>3.00</td>\n",
       "      <td>Female</td>\n",
       "      <td>No</td>\n",
       "      <td>Thur</td>\n",
       "      <td>Dinner</td>\n",
       "      <td>2</td>\n",
       "    </tr>\n",
       "  </tbody>\n",
       "</table>\n",
       "<p>244 rows × 7 columns</p>\n",
       "</div>"
      ],
      "text/plain": [
       "     total_bill   tip     sex smoker   day    time  size\n",
       "0         16.99  1.01  Female     No   Sun  Dinner     2\n",
       "1         10.34  1.66    Male     No   Sun  Dinner     3\n",
       "2         21.01  3.50    Male     No   Sun  Dinner     3\n",
       "3         23.68  3.31    Male     No   Sun  Dinner     2\n",
       "4         24.59  3.61  Female     No   Sun  Dinner     4\n",
       "..          ...   ...     ...    ...   ...     ...   ...\n",
       "239       29.03  5.92    Male     No   Sat  Dinner     3\n",
       "240       27.18  2.00  Female    Yes   Sat  Dinner     2\n",
       "241       22.67  2.00    Male    Yes   Sat  Dinner     2\n",
       "242       17.82  1.75    Male     No   Sat  Dinner     2\n",
       "243       18.78  3.00  Female     No  Thur  Dinner     2\n",
       "\n",
       "[244 rows x 7 columns]"
      ]
     },
     "execution_count": 3,
     "metadata": {},
     "output_type": "execute_result"
    }
   ],
   "source": [
    "'''7)Use seaborn library to load tips dataset. Find the following from the dataset for the columns total_bill \n",
    "and tip'''\n",
    "\n",
    "import seaborn as sns\n",
    "df=sns.load_dataset(\"tips\")\n",
    "df\n",
    "\n"
   ]
  },
  {
   "cell_type": "code",
   "execution_count": 19,
   "id": "b8813612",
   "metadata": {},
   "outputs": [
    {
     "name": "stdout",
     "output_type": "stream",
     "text": [
      "skewness values are: {'total_bill': 1.1332130376158205, 'tip': 1.4654510370979401}\n"
     ]
    }
   ],
   "source": [
    "'''i)   Wrrte a Python function that calculates their skewness'''\n",
    "def skewness(data,column):\n",
    "    skewness_value= {}\n",
    "    for col in column:\n",
    "        skewness_value[col] = data[col].skew()\n",
    "    return skewness_value\n",
    "\n",
    "column=['total_bill','tip']\n",
    "result=skewness(df,column)\n",
    "print(\"skewness values are:\",result)\n",
    "\n",
    "\n",
    "   \n",
    "        "
   ]
  },
  {
   "cell_type": "code",
   "execution_count": 12,
   "id": "f17bdff7",
   "metadata": {},
   "outputs": [
    {
     "name": "stdout",
     "output_type": "stream",
     "text": [
      "Skewness of total bill is: Positive skewness\n",
      "Skewness of tip is: Positive skewness\n"
     ]
    }
   ],
   "source": [
    "'''ii)Create a program that determines whether the columns exhibit positive skewness, negative skewness, or is \n",
    "approximately symmetric.'''\n",
    "\n",
    "import pandas as pd\n",
    "from scipy.stats import skew\n",
    "\n",
    "\n",
    "\n",
    "def type_of_skewness(skewness):\n",
    "    if skewness > 0.5:\n",
    "        return \"Positive skewness\"\n",
    "    elif skewness < -0.5:\n",
    "        return \"Negative skewness\"\n",
    "    else:\n",
    "        return \"Approximately symmetric\"\n",
    "\n",
    "skewness_total_bill = skew(df['total_bill'])\n",
    "skewness_tip = skew(df['tip'])\n",
    "\n",
    "result_total_bill = type_of_skewness(skewness_total_bill)\n",
    "result_tip = type_of_skewness(skewness_tip)\n",
    "\n",
    "print(\"Skewness of total bill is:\", result_total_bill)\n",
    "print(\"Skewness of tip is:\", result_tip)\n",
    "        \n",
    "        \n",
    "    \n"
   ]
  },
  {
   "cell_type": "code",
   "execution_count": 25,
   "id": "9503474e",
   "metadata": {},
   "outputs": [
    {
     "name": "stdout",
     "output_type": "stream",
     "text": [
      "covariance between totel bill and tip column is: 8.323501629224854\n"
     ]
    }
   ],
   "source": [
    "'''iii) Write a function that calculates the covariance between two columns.'''\n",
    "import pandas as pd\n",
    "import numpy as np\n",
    "import seaborn as sns\n",
    "df=sns.load_dataset(\"tips\")\n",
    "df\n",
    "\n",
    "def covariance(df,col1,col2):\n",
    "    covariance = df[col1].cov(df[col2])\n",
    "    return covariance\n",
    "\n",
    "\n",
    "result=covariance(df,\"total_bill\",\"tip\")\n",
    "print(\"covariance between totel bill and tip column is:\",result)\n"
   ]
  },
  {
   "cell_type": "code",
   "execution_count": 39,
   "id": "9cc3af74",
   "metadata": {},
   "outputs": [
    {
     "name": "stdout",
     "output_type": "stream",
     "text": [
      "Pearson correlation coefficent between total_bill and tip column is: 0.6757341092113647\n"
     ]
    }
   ],
   "source": [
    "'''iv) Implement a Python program that calculates the Pearson correlation coefficent between two columns.'''\n",
    "from scipy.stats import pearsonr\n",
    "\n",
    "def Pearson_correlation(df,col1,col2):\n",
    "    correlation_coefficient,_ =pearsonr(df[col1], df[col2])\n",
    "    return correlation_coefficient \n",
    "\n",
    "col1='total_bill'\n",
    "col2='tip'\n",
    "result=Pearson_correlation(df,col1,col2)\n",
    "print(\"Pearson correlation coefficent between total_bill and tip column is:\",result)"
   ]
  },
  {
   "cell_type": "code",
   "execution_count": 4,
   "id": "e3c9bbbb",
   "metadata": {},
   "outputs": [
    {
     "data": {
      "image/png": "[encoded data removed]",
      "text/plain": [
       "<Figure size 640x480 with 1 Axes>"
      ]
     },
     "metadata": {},
     "output_type": "display_data"
    }
   ],
   "source": [
    "'''v) Write a script to visualize the correlation between two specific columns in a Pandas DataFrame using \n",
    "scatter plots'''\n",
    "\n",
    "import matplotlib.pyplot as plt\n",
    "import seaborn as sns\n",
    "\n",
    "\n",
    "\n",
    "\n",
    "\n",
    "col1='total_bill'\n",
    "col2='tip'\n",
    "sns.scatterplot(data=df, x=col1, y=col2)\n",
    "plt.show()\n",
    "\n"
   ]
  },
  {
   "cell_type": "code",
   "execution_count": 5,
   "id": "19e7a01b",
   "metadata": {},
   "outputs": [
    {
     "name": "stdout",
     "output_type": "stream",
     "text": [
      "probability density function (PDF) of value 2 is: 0.05399096651318806\n"
     ]
    }
   ],
   "source": [
    " '''8) Write a Python function to calculate the probability density function (PDF) of a continuous random \n",
    "variable for a given normal distribution.'''\n",
    "    \n",
    "import math\n",
    "import random\n",
    "from statistics import NormalDist\n",
    "\n",
    "def PDF_normal_distribution(value,mean,std_dev):\n",
    "    distribution=NormalDist(mean,std_dev)\n",
    "    pdf= distribution.pdf(value)\n",
    "    return pdf\n",
    "\n",
    "mean=0\n",
    "std_dev=1\n",
    "value=2\n",
    "\n",
    "result= PDF_normal_distribution(value,mean,std_dev)\n",
    "print(\"probability density function (PDF) of value 2 is:\",result)\n",
    "    "
   ]
  },
  {
   "cell_type": "code",
   "execution_count": 10,
   "id": "64634bba",
   "metadata": {},
   "outputs": [
    {
     "name": "stdout",
     "output_type": "stream",
     "text": [
      "exponentia cdf of given value is : 0.950212931632136\n"
     ]
    }
   ],
   "source": [
    "'''9) Create a program to calculate the cumulative distribution function (CDF) of exponential distribution'''\n",
    "\n",
    "def  exponential_CDF(value,lambd):\n",
    "    if value<0:\n",
    "        return 0.0\n",
    "    else:\n",
    "        cdf=1-math.exp(-lambd*value)\n",
    "        return cdf\n",
    "lambd=1\n",
    "value=3\n",
    "result=exponential_CDF(value,lambd)\n",
    "print(\"exponentia cdf of given value is :\",result)\n",
    "    \n",
    "    "
   ]
  },
  {
   "cell_type": "code",
   "execution_count": 14,
   "id": "a17edce4",
   "metadata": {},
   "outputs": [
    {
     "name": "stdout",
     "output_type": "stream",
     "text": [
      "PMF of Poisson distribution of given value is: 0.1403738958142805\n"
     ]
    }
   ],
   "source": [
    "'''10)Write a Python function to calculate the probability mass function (PMF) of Poisson distribution.'''\n",
    "\n",
    "from scipy.stats import poisson\n",
    "\n",
    "def poisson_pmf(x,alpha):\n",
    "   \n",
    "    pmf=poisson.pmf(x,alpha)\n",
    "    return pmf\n",
    "\n",
    "x=3\n",
    "alpha=5\n",
    "\n",
    "result=poisson_pmf(x,alpha)\n",
    "print(\"PMF of Poisson distribution of given value is:\",result)"
   ]
  },
  {
   "cell_type": "code",
   "execution_count": 1,
   "id": "bd71e860",
   "metadata": {},
   "outputs": [],
   "source": [
    "#!pip install --upgrade scipy\n"
   ]
  },
  {
   "cell_type": "code",
   "execution_count": 2,
   "id": "1d9441ee",
   "metadata": {},
   "outputs": [],
   "source": [
    "#!pip install statsmodels"
   ]
  },
  {
   "cell_type": "code",
   "execution_count": 22,
   "id": "c966e17a",
   "metadata": {},
   "outputs": [
    {
     "name": "stdout",
     "output_type": "stream",
     "text": [
      "z_score = -1.883837962960912\n",
      "P value= 0.05958689675745177\n",
      " new website layout leads to a higher conversion rate\n"
     ]
    }
   ],
   "source": [
    "'''11) A company wants to test iN a new website layout leads to a higher conversion rate (percentage oN visitors \n",
    "who make a purchase). They collect data Nrom the old and new layouts to compare   Apply z-test to find which layout is successful'''\n",
    "\n",
    "\n",
    "import numpy as np\n",
    "from statsmodels.stats.weightstats import ztest\n",
    "\n",
    "\n",
    "\n",
    "# 50 purchases out of 1000 visitors\n",
    "\n",
    "old_layout = np.array([1] * 50 + [0] * 950)\n",
    "\n",
    "# 70 purchases out of 1000 visitors  \n",
    "\n",
    "new_layout = np.array([1] * 70 + [0] * 930)\n",
    "\n",
    "\n",
    "\n",
    "old_purchases=50\n",
    "old_visitors=1000\n",
    "new_purchases=70\n",
    "new_visitors=1000\n",
    "\n",
    "p_old=old_purchases/old_visitors\n",
    "p_new=new_purchases/new_visitors\n",
    "\n",
    "z_score,p_value=ztest(old_layout,new_layout,value=0)\n",
    "\n",
    "print(\"z_score =\",z_score)\n",
    "print(\"P value=\",p_value)\n",
    "\n",
    "alpha=0.5\n",
    "if p_value<alpha:\n",
    "    print(\" new website layout leads to a higher conversion rate\")\n",
    "else:\n",
    "        print(\"no major difference between old and new layouts\")\n",
    "\n",
    "\n"
   ]
  },
  {
   "cell_type": "code",
   "execution_count": 24,
   "id": "78103399",
   "metadata": {},
   "outputs": [
    {
     "name": "stdout",
     "output_type": "stream",
     "text": [
      "z_score = -1.3600371723457605\n",
      "P value= 0.17381816101827674\n",
      "reject the null hypothesis,program  improves students' exam scores\n"
     ]
    }
   ],
   "source": [
    "'''12) A tutoring service claims that its program improves students' exam scores. A sample oN students who \n",
    "participated in the program was taken, and their scores before and ater the program were recorded Use z-test to find if the claims made by tutor are true or false'''\n",
    "\n",
    "#H0=program does not improves students' exam scores\n",
    "#HA=program improves students' exam scores\n",
    "before_program = np.array([75, 80, 85, 70, 90, 78, 92, 88, 82, 87])\n",
    "\n",
    "after_program = np.array([80, 85, 90, 80, 92, 80, 95, 90, 85, 88])\n",
    "\n",
    "\n",
    "z_score,p_value=ztest(before_program ,after_program ,value=0)\n",
    "print(\"z_score =\",z_score)\n",
    "print(\"P value=\",p_value)\n",
    "\n",
    "alpha=0.5\n",
    "\n",
    "if p_value<alpha:\n",
    "    print(\"reject the null hypothesis,program  improves students' exam scores\")\n",
    "else:\n",
    "    print(\"fail to reject the null hypothesis,program does not improves students' exam scores \")\n",
    "\n",
    "\n"
   ]
  },
  {
   "cell_type": "code",
   "execution_count": 9,
   "id": "2861ce57",
   "metadata": {},
   "outputs": [
    {
     "name": "stdout",
     "output_type": "stream",
     "text": [
      "z_score = 2.639577121919447\n",
      "P value= 0.004150476693595778\n",
      "reject the null hypothesis,drug effective in reducing blood pressure\n"
     ]
    }
   ],
   "source": [
    "'''13)A pharmaceutical company wants to determine if a new drug is effective in reducing blood pressure. They \n",
    "conduct a study and record blood pressure measurements before and after administering the drug  Implement z-test to find if the drug really works or not'''\n",
    "\n",
    "#H0= drug does not effective in reducing blood pressure\n",
    "#HA=drug  effective in reducing blood pressure\n",
    "before_drug = np.array([145, 150, 140, 135, 155, 160, 152, 148, 130, 138])\n",
    "\n",
    "after_drug = np.array([130, 140, 132, 128, 145, 148, 138, 136, 125, 130])\n",
    "\n",
    "z_score,p_value=ztest(before_drug,after_drug ,alternative='larger')\n",
    "print(\"z_score =\",z_score)\n",
    "print(\"P value=\",p_value)\n",
    "\n",
    "alpha=0.5\n",
    "\n",
    "if p_value<alpha:\n",
    "    print(\"reject the null hypothesis,drug effective in reducing blood pressure\")\n",
    "else:\n",
    "    print(\"fail to reject the null hypothesis, drug does not effective in reducing blood pressure\")\n",
    "\n"
   ]
  },
  {
   "cell_type": "code",
   "execution_count": 11,
   "id": "280862ba",
   "metadata": {},
   "outputs": [
    {
     "name": "stdout",
     "output_type": "stream",
     "text": [
      "z_score = -3.1844572260429627\n",
      "P value= 0.0007251287113068958\n",
      "reject the null hypothesis,average response time is less than 5 minutess\n"
     ]
    }
   ],
   "source": [
    "'''14)A customer service department claims that their average response time is less than 5 minutess A sample \n",
    "of recent customer interactions was taken, and the response times were recorded Impleme3t z-test to fi3d the claims made by customer service department are true or false'''\n",
    "\n",
    "import numpy as np\n",
    "from statsmodels.stats.weightstats import ztest\n",
    "\n",
    "response_times = np.array([4.3, 3.8, 5.1, 4.9, 4.7, 4.2, 5.2, 4.5, 4.6, 4.4])\n",
    "\n",
    "#Ho=average response time is more than 5 minutess\n",
    "#Ha=average response time is less than 5 minutess\n",
    "# Perform one-sample z-test\n",
    "z_score, p_value = ztest(response_times,value=5,alternative='smaller')\n",
    "\n",
    "print(\"z_score =\",z_score)\n",
    "print(\"P value=\",p_value)\n",
    "\n",
    "alpha=0.5\n",
    "\n",
    "if p_value<alpha:\n",
    "    print(\"reject the null hypothesis,average response time is less than 5 minutess\")\n",
    "else:\n",
    "    print(\"fail to reject the null hypothesis, average response time is more than 5 minutess\")\n"
   ]
  },
  {
   "cell_type": "code",
   "execution_count": 6,
   "id": "79e75df6",
   "metadata": {},
   "outputs": [
    {
     "name": "stdout",
     "output_type": "stream",
     "text": [
      "t_test value is : -7.298102156175071\n",
      "p value: 8.833437608301987e-07\n",
      "degree of freedom: 18\n",
      "reject the null hypothesis,their is different in two different website layouts\n"
     ]
    }
   ],
   "source": [
    "'''15) A company is testing two different website layouts to see which one leads to higher click-through rates \n",
    "Write a Python function to perform an A/B test analysis, including calculating the t-statistic, degrees of \n",
    "freedom, and p-value'''\n",
    "\n",
    "layout_a_clicks = [28, 32, 33, 29, 31, 34, 30, 35, 36, 37]\n",
    "\n",
    "layout_b_clicks = [40, 41, 38, 42, 39, 44, 43, 41, 45, 47]\n",
    "\n",
    "#Ho=their is no much different in two different website layouts\n",
    "#HA=their different in two different website layouts\n",
    "\n",
    "from scipy.stats import ttest_ind\n",
    "\n",
    "def t_test(data1,data2):\n",
    "    t_test,p_value=ttest_ind(data1,data2)\n",
    "    dof = len(data1) + len(data2) - 2\n",
    "    return  t_test,p_value, dof\n",
    "\n",
    "t_test, p_value, dof=t_test(layout_a_clicks,layout_b_clicks)\n",
    "print(\"t_test value is :\",t_test)\n",
    "print(\"p value:\",p_value)\n",
    "print(\"degree of freedom:\",dof)\n",
    "\n",
    "\n",
    "alpha=0.5\n",
    "\n",
    "if p_value <alpha:\n",
    "    print(\"reject the null hypothesis,their is different in two different website layouts\")\n",
    "else:\n",
    "    print(\"fail to reject the null hypothesis, their is no much different in two different website layouts\")\n",
    "\n",
    "\n",
    "\n"
   ]
  },
  {
   "cell_type": "code",
   "execution_count": 10,
   "id": "410193f8",
   "metadata": {},
   "outputs": [
    {
     "name": "stdout",
     "output_type": "stream",
     "text": [
      "t_test value: 4.14048098620866\n",
      "p value: 0.0006143398442372505\n",
      "reject the null hypothesis,new_drug is  more effective\n"
     ]
    }
   ],
   "source": [
    "'''16) A pharmaceutical company wants to determine if a new drug is more effective than an existing drug in \n",
    "reducing cholesterol levels Create a program to analyze the clinical trial data and calculate the t-statistic and p-value for the treatment effect.'''\n",
    "\n",
    "\n",
    "existing_drug_levels = [180, 182, 175, 185, 178, 176, 172, 184, 179, 183]\n",
    "\n",
    "new_drug_levels = [170, 172, 165, 168, 175, 173, 170, 178, 172, 176]\n",
    "\n",
    "from scipy.stats import ttest_ind\n",
    "\n",
    "\n",
    "#Ho=new_drug is not more effective\n",
    "#HA=new_drug is  more effective\n",
    "\n",
    "t_test, p_value=ttest_ind(existing_drug_levels,new_drug_levels)\n",
    "\n",
    "print(\"t_test value:\",t_test)\n",
    "print(\"p value:\",p_value)\n",
    "\n",
    "alpha=0.5\n",
    "\n",
    "if p_value <alpha:\n",
    "    print(\"reject the null hypothesis,new_drug is  more effective\")\n",
    "else:\n",
    "    print(\"fail to reject the null hypothesis,new_drug is not more effective \")\n",
    "\n",
    "\n"
   ]
  },
  {
   "cell_type": "code",
   "execution_count": 1,
   "id": "0270690e",
   "metadata": {},
   "outputs": [
    {
     "name": "stdout",
     "output_type": "stream",
     "text": [
      "t_test value is : -4.42840883965761\n",
      "p value: 0.0016509548165795493\n",
      "reject the null hypothesis,intervention program  improve math scores\n"
     ]
    }
   ],
   "source": [
    "'''17) A school district introduces an educational intervention program to improve math scores Write a Python \n",
    "function to analyze pre- and post-intervention test scores, calculating the t-statistic and p-value to \n",
    "determine if the intervention had a significant impact'''\n",
    "\n",
    "#H0=intervention program dont improve math scores\n",
    "#HA=intervention program  improve math scores\n",
    "\n",
    "pre_intervention_scores = [80, 85, 90, 75, 88, 82, 92, 78, 85, 87]\n",
    "post_intervention_scores = [90, 92, 88, 92, 95, 91, 96, 93, 89, 93]\n",
    "\n",
    "from scipy.stats import ttest_rel\n",
    "\n",
    "\n",
    "\n",
    "def t_test(data1,data2):\n",
    "    t_test,p_value=ttest_rel(data1,data2)\n",
    "   \n",
    "    return  t_test,p_value\n",
    "\n",
    "t_test, p_value=t_test(pre_intervention_scores ,post_intervention_scores)\n",
    "print(\"t_test value is :\",t_test)\n",
    "print(\"p value:\",p_value)\n",
    "\n",
    "\n",
    "\n",
    "alpha=0.5\n",
    "\n",
    "if p_value <alpha:\n",
    "    print(\"reject the null hypothesis,intervention program  improve math scores\")\n",
    "else:\n",
    "    print(\"fail to reject the null hypothesis, intervention program dont improve math scores\")\n",
    "\n",
    "\n",
    "\n",
    "\n"
   ]
  },
  {
   "cell_type": "code",
   "execution_count": 7,
   "id": "4c1b00d3",
   "metadata": {},
   "outputs": [
    {
     "name": "stdout",
     "output_type": "stream",
     "text": [
      "male_mean: 55693.345929456365\n",
      "female_mean: 55501.753181380416\n",
      "t_test score: 0.06114208969631383\n",
      "p_value: 0.9515665020676465\n",
      "fail to reject the null hypothesis, there's a No statistically significant difference between the average salaries of male and female employees\n"
     ]
    }
   ],
   "source": [
    "'''18)An HR department wants to investigate in there's a gender-based salary gap within the company. Develop \n",
    "a program to analyze salary data, calculate the t-statistic, and determine in there's a statistically \n",
    "significant difference between the average salaries of male and female employees'''\n",
    "\n",
    "import numpy as np\n",
    "from scipy.stats import ttest_ind\n",
    "\n",
    "#H0=there's a  No statistically significant difference between the average salaries of male and female employees\n",
    "#HA=there's a statistically significant difference between the average salaries of male and female employees\n",
    "\n",
    "\n",
    "# Generate synthetic salary data for male and female employees\n",
    "\n",
    "np.random.seed(0)  # For reproducibility\n",
    "\n",
    "male_salaries = np.random.normal(loc=50000, scale=10000, size=20)\n",
    "\n",
    "female_salaries = np.random.normal(loc=55000, scale=9000, size=20)\n",
    "\n",
    "\n",
    "Mean_Male=np.mean(male_salaries)\n",
    "Mean_Female=np.mean(female_salaries)\n",
    "\n",
    "t_test, p_value=ttest_ind(male_salaries,female_salaries)\n",
    "\n",
    "print(\"male_mean:\",Mean_Male)\n",
    "print(\"female_mean:\",Mean_Female)\n",
    "print(\"t_test score:\",t_test)\n",
    "print(\"p_value:\",p_value)\n",
    "\n",
    "\n",
    "alpha=0.5\n",
    "\n",
    "if p_value <alpha:\n",
    "    print(\"reject the null hypothesis,there's a statistically significant difference between the average salaries of male and female employees\")\n",
    "else:\n",
    "    print(\"fail to reject the null hypothesis, there's a No statistically significant difference between the average salaries of male and female employees\")\n",
    "\n",
    "\n",
    "\n",
    "\n",
    "\n",
    "\n"
   ]
  },
  {
   "cell_type": "code",
   "execution_count": 8,
   "id": "5914531c",
   "metadata": {},
   "outputs": [
    {
     "name": "stdout",
     "output_type": "stream",
     "text": [
      "t_test value is : 11.325830417646698\n",
      "p value: 3.6824250702873965e-15\n",
      "reject the null hypothesis,there's a significant difference in quality between the two versions\n"
     ]
    }
   ],
   "source": [
    "'''19)A manufacturer produces two different versions of a product and wants to compare their quality scores. \n",
    "Create a Python function to analyze quality assessment data, calculate the t-statistic, and decide \n",
    "whether there's a significant difference in quality between the two versions'''\n",
    "\n",
    "version1_scores = [85, 88, 82, 89, 87, 84, 90, 88, 85, 86, 91, 83, 87, 84, 89, 86, 84, 88, 85, 86, 89, 90, 87, 88, 85]\n",
    "\n",
    "version2_scores = [80, 78, 83, 81, 79, 82, 76, 80, 78, 81, 77, 82, 80, 79, 82, 79, 80, 81, 79, 82, 79, 78, 80, 81, 82]\n",
    "\n",
    "#H0=there's a NO NO significant difference in quality between the two versions\n",
    "#HA=there's a significant difference in quality between the two versions\n",
    "\n",
    "\n",
    "def t_test(data1,data2):\n",
    "    t_test,p_value=ttest_ind(data1,data2)\n",
    "    \n",
    "    return  t_test,p_value\n",
    "\n",
    "t_test, p_value=t_test(version1_scores,version2_scores)\n",
    "print(\"t_test value is :\",t_test)\n",
    "print(\"p value:\",p_value)\n",
    "\n",
    "\n",
    "\n",
    "alpha=0.5\n",
    "\n",
    "if p_value <alpha:\n",
    "    print(\"reject the null hypothesis,there's a significant difference in quality between the two versions\")\n",
    "else:\n",
    "    print(\"fail to reject the null hypothesis,there's a NO NO significant difference in quality between the two versions\")\n",
    "\n",
    "\n",
    "\n",
    "\n"
   ]
  },
  {
   "cell_type": "code",
   "execution_count": 12,
   "id": "89ac8653",
   "metadata": {},
   "outputs": [
    {
     "name": "stdout",
     "output_type": "stream",
     "text": [
      "branch_a_Mean: 4.129032258064516\n",
      "branch_b_Mean: 3.129032258064516\n",
      "t_test score: 5.480077554195743\n",
      "p_value: 8.895290509945657e-07\n",
      "reject the null hypothesis,there's a statistically significant difference in customer satisfaction between the branches\n"
     ]
    }
   ],
   "source": [
    "'''20). A restaurant chain collects customer satisfaction scores for two different branches. Write a program to \n",
    "analyze the scores, calculate the t-statistic, and determine if there's a statistically significant difference in \n",
    "customer satisfaction between the branches'''\n",
    "\n",
    "branch_a_scores = [4, 5, 3, 4, 5, 4, 5, 3, 4, 4, 5, 4, 4, 3, 4, 5, 5, 4, 3, 4, 5, 4, 3, 5, 4, 4, 5, 3, 4, 5, 4]\n",
    "\n",
    "branch_b_scores = [3, 4, 2, 3, 4, 3, 4, 2, 3, 3, 4, 3, 3, 2, 3, 4, 4, 3, 2, 3, 4, 3, 2, 4, 3, 3, 4, 2, 3, 4, 3]\n",
    "\n",
    "\n",
    "#Ho=there's a NO statistically significant difference in customer satisfaction between the branches\n",
    "#HA=there's a statistically significant difference in customer satisfaction between the branches\n",
    "\n",
    "branch_a_Mean=np.mean(branch_a_scores)\n",
    "branch_b_Mean=np.mean(branch_b_scores)\n",
    "\n",
    "t_test, p_value=ttest_ind(branch_a_scores,branch_b_scores)\n",
    "\n",
    "print(\"branch_a_Mean:\",branch_a_Mean)\n",
    "print(\"branch_b_Mean:\",branch_b_Mean)\n",
    "print(\"t_test score:\",t_test)\n",
    "print(\"p_value:\",p_value)\n",
    "\n",
    "\n",
    "alpha=0.5\n",
    "\n",
    "if p_value <alpha:\n",
    "    print(\"reject the null hypothesis,there's a statistically significant difference in customer satisfaction between the branches\")\n",
    "else:\n",
    "    print(\"fail to reject the null hypothesis, there's a No statistically significant difference in customer satisfaction between the branches\")\n",
    "\n",
    "\n",
    "\n",
    "\n",
    "\n",
    "\n",
    "\n",
    "\n"
   ]
  },
  {
   "cell_type": "code",
   "execution_count": 17,
   "id": "4a7bb3d5",
   "metadata": {},
   "outputs": [
    {
     "name": "stdout",
     "output_type": "stream",
     "text": [
      "contingency_table : col_0   Candidate A  Candidate B\n",
      "row_0                           \n",
      " 51+              5            9\n",
      "18- 30            2            6\n",
      "31- 50            4            4\n",
      "chi2_test: 1.086807928913192\n",
      "p_value: 0.5807679703526951\n",
      "degree of freedom: 2\n",
      "expected_value: [[5.13333333 8.86666667]\n",
      " [2.93333333 5.06666667]\n",
      " [2.93333333 5.06666667]]\n",
      "fail to reject the null hypothesis, there is a No significant association between age groups and voter preferences\n"
     ]
    }
   ],
   "source": [
    "'''21)A political analyst wants to determine iff there is a significant association between age groups and voter \n",
    "preferences (Candidate A or Candidate B). They collect data from a sample of 500 voters and classify \n",
    "them into different age groups and candidate preferences. Perform a Chi-Square test to determine if \n",
    "there is a significant association between age groups and voter preferences.'''\n",
    "\n",
    "np.random.seed(0)\n",
    "\n",
    "age_groups = np.random.choice([ '18- 30' , '31- 50' ,' 51+',' 51+'], size=30)\n",
    "\n",
    "voter_preferences = np.random.choice(['Candidate A', 'Candidate B'], size=30)\n",
    "\n",
    "\n",
    "#h0=there is No significant association between age groups and voter preferences\n",
    "#ha=there is a significant association between age groups and voter preferences\n",
    "\n",
    "import pandas as pd\n",
    "import numpy as np\n",
    "from scipy.stats import chi2_contingency\n",
    "\n",
    "contingency_table=pd.crosstab(age_groups,voter_preferences)\n",
    "print(\"contingency_table :\",contingency_table)\n",
    "\n",
    "chi2_test,p_value,dof,expected_value=chi2_contingency(contingency_table)\n",
    "\n",
    "print(\"chi2_test:\",chi2_test)\n",
    "print(\"p_value:\",p_value)\n",
    "print(\"degree of freedom:\",dof)\n",
    "print(\"expected_value:\",expected_value)\n",
    "\n",
    "alpha=0.05\n",
    "\n",
    "if p_value <alpha:\n",
    "    print(\"reject the null hypothesis,there is a significant association between age groups and voter preferences\")\n",
    "else:\n",
    "    print(\"fail to reject the null hypothesis, there is a No significant association between age groups and voter preferences\")\n",
    "\n",
    "\n",
    "\n",
    "\n",
    "\n"
   ]
  },
  {
   "cell_type": "code",
   "execution_count": 7,
   "id": "677085b8",
   "metadata": {},
   "outputs": [
    {
     "name": "stdout",
     "output_type": "stream",
     "text": [
      "chi2_test: 27.777056277056275\n",
      "p_value: 0.00010349448486004387\n",
      "degree of freedom: 6\n",
      "expected_value: [[34.14634146 34.14634146 37.56097561 34.14634146]\n",
      " [36.58536585 36.58536585 40.24390244 36.58536585]\n",
      " [29.26829268 29.26829268 32.19512195 29.26829268]]\n",
      "reject the null hypothesis,there is a significant relationship between product satisfaction levels and customer regions based on the survey data.\n"
     ]
    }
   ],
   "source": [
    "'''22) A company conducted a customer satisfaction survey to determine if there is a significant relationship \n",
    "between product satisfaction levels (Satisfied, Neutral, Dissatisfied) and the region where customers are \n",
    "located (East, West, North, South). The survey data is summarized in a contingency table. Conduct a Chi-Square test to determine if there is a significant relationship between product satisfaction levels and \n",
    "customer regions'''\n",
    "\n",
    "#Sample data: Product satisfaction levels (rows) vs. Customer regions (columns)\n",
    "\n",
    "#H0= there is a No significant relationship between product satisfaction levels and customer regions based on the survey data.\n",
    "\n",
    "#HA= there is a significant relationship between product satisfaction levels and customer regions based on the survey data.\n",
    "import pandas as pd\n",
    "import numpy as np\n",
    "from scipy.stats import chi2_contingency\n",
    "\n",
    "\n",
    "data = np.array([[50, 30, 40, 20], [30, 40, 30, 50], [20, 30, 40, 30]])\n",
    "\n",
    "\n",
    "chi2_test,p_value,dof,expected_value=chi2_contingency(data)\n",
    "\n",
    "print(\"chi2_test:\",chi2_test)\n",
    "print(\"p_value:\",p_value)\n",
    "print(\"degree of freedom:\",dof)\n",
    "print(\"expected_value:\",expected_value)\n",
    "\n",
    "\n",
    "alpha=0.05\n",
    "\n",
    "if p_value <alpha:\n",
    "    print(\"reject the null hypothesis,there is a significant relationship between product satisfaction levels and customer regions based on the survey data.\")\n",
    "else:\n",
    "    print(\"fail to reject the null hypothesis, there is a No significant relationship between product satisfaction levels and customer regions based on the survey data.\")\n",
    "\n",
    "\n",
    "\n"
   ]
  },
  {
   "cell_type": "code",
   "execution_count": 8,
   "id": "3c4b50db",
   "metadata": {},
   "outputs": [
    {
     "name": "stdout",
     "output_type": "stream",
     "text": [
      "chi2_test: 22.161728395061726\n",
      "p_value: 0.00018609719479882554\n",
      "degree of freedom: 4\n",
      "expected_value: [[34.48275862 34.48275862 31.03448276]\n",
      " [34.48275862 34.48275862 31.03448276]\n",
      " [31.03448276 31.03448276 27.93103448]]\n",
      "reject the null hypothesis,There is a significant difference between job performance levels before and after training.\n"
     ]
    }
   ],
   "source": [
    "'''23). A company implemented an employee training program to improve job performance (Effective, Neutral, \n",
    "Ineffective). After the training, they collected data from a sample of employees and classified them based \n",
    "on their job performance before and after the training. Perform a Chi-Square test to determine if there is a \n",
    "significant difference between job performance levels before and after the training.'''\n",
    "\n",
    "# Sample data: Job performance levels before (rows) and after (columns) training\n",
    "\n",
    "data = np.array([[50, 30, 20], [30, 40, 30], [20, 30, 40]])\n",
    "\n",
    "#H0=There is no significant difference between job performance levels before and after training.\n",
    "#HA=There is a significant difference between job performance levels before and after training.\n",
    "\n",
    "data = np.array([[50, 30, 20],\n",
    "                 [30, 40, 30],\n",
    "                 [20, 30, 40]])\n",
    "chi2_test,p_value,dof,expected_value=chi2_contingency(data)\n",
    "\n",
    "print(\"chi2_test:\",chi2_test)\n",
    "print(\"p_value:\",p_value)\n",
    "print(\"degree of freedom:\",dof)\n",
    "print(\"expected_value:\",expected_value)\n",
    "\n",
    "\n",
    "alpha=0.05\n",
    "\n",
    "if p_value <alpha:\n",
    "    print(\"reject the null hypothesis,There is a significant difference between job performance levels before and after training.\")\n",
    "else:\n",
    "    print(\"fail to reject the null hypothesis, There is No significant difference between job performance levels before and after training.\")\n",
    "\n",
    "\n",
    "\n"
   ]
  },
  {
   "cell_type": "code",
   "execution_count": 10,
   "id": "925d9bd2",
   "metadata": {},
   "outputs": [
    {
     "name": "stdout",
     "output_type": "stream",
     "text": [
      "F_stat: 27.03556231003039\n",
      "p value: 3.578632885734896e-07\n",
      "reject the null hypothesis,there is a significant difference in customer satisfaction scores.\n"
     ]
    }
   ],
   "source": [
    "'''24). A company produces three different versions of a product: Standard, Premium, and Deluxe. The \n",
    "company wants to determine if there is a significant difference in customer satisfaction scores among the \n",
    "three product versions. They conducted a survey and collected customer satisfaction scores for each \n",
    "version from a random sample of customers. Perform an ANOVA test to determine if there is a significant \n",
    "difference in customer satisfaction scores.'''\n",
    "\n",
    "\n",
    "\n",
    "#H0=there is No significant difference in customer satisfaction scores\n",
    "#HA=there is a significant difference in customer satisfaction scores\n",
    "\n",
    "\n",
    "  \n",
    "  # Sample data: Customer satisfaction scores for each product version\n",
    "from scipy.stats import f_oneway\n",
    "\n",
    "standard_scores = [80, 85, 90, 78, 88, 82, 92, 78, 85, 87]\n",
    "\n",
    "premium_scores = [90, 92, 88, 92, 95, 91, 96, 93, 89, 93]\n",
    "\n",
    "deluxe_scores = [95, 98, 92, 97, 96, 94, 98, 97, 92, 99]\n",
    "\n",
    "\n",
    "F_value,p_value=f_oneway(standard_scores,premium_scores,deluxe_scores)\n",
    "print(\"F_stat:\",F_value)\n",
    "print(\"p value:\",p_value)\n",
    "\n",
    "alpha=0.05\n",
    "\n",
    "if p_value <alpha:\n",
    "    print(\"reject the null hypothesis,there is a significant difference in customer satisfaction scores.\")\n",
    "else:\n",
    "    print(\"fail to reject the null hypothesis, there is No significant difference in customer satisfaction scores\")\n",
    "\n",
    "\n",
    "\n"
   ]
  },
  {
   "cell_type": "code",
   "execution_count": null,
   "id": "b7ac90d4",
   "metadata": {},
   "outputs": [],
   "source": []
  }
 ],
 "metadata": {
  "kernelspec": {
   "display_name": "Python 3 (ipykernel)",
   "language": "python",
   "name": "python3"
  },
  "language_info": {
   "codemirror_mode": {
    "name": "ipython",
    "version": 3
   },
   "file_extension": ".py",
   "mimetype": "text/x-python",
   "name": "python",
   "nbconvert_exporter": "python",
   "pygments_lexer": "ipython3",
   "version": "3.10.0"
  }
 },
 "nbformat": 4,
 "nbformat_minor": 5
}
